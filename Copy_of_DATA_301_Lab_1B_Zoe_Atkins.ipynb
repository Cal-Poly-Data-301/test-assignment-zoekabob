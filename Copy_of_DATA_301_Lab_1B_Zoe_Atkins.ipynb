{
  "cells": [
    {
      "cell_type": "markdown",
      "metadata": {
        "id": "view-in-github",
        "colab_type": "text"
      },
      "source": [
        "<a href=\"https://colab.research.google.com/github/Cal-Poly-Data-301/test-assignment-zoekabob/blob/main/Copy_of_DATA_301_Lab_1B_Zoe_Atkins.ipynb\" target=\"_parent\"><img src=\"https://colab.research.google.com/assets/colab-badge.svg\" alt=\"Open In Colab\"/></a>"
      ]
    },
    {
      "cell_type": "markdown",
      "metadata": {
        "id": "uQm3Aekkc8kE"
      },
      "source": [
        "# Explore the In Class Survey\n",
        "\n",
        "During the first class, you filled out the [first-day survey](https://docs.google.com/forms/d/e/1FAIpQLSczqKwzkye0RP8byLMxzj1Br3kC_YUdVGLWmMXX6VND99ivWg/viewform). In this lab, you will explore [the responses](https://docs.google.com/spreadsheets/d/1K9rfAscLESbwvovOc1aD3K6PFgdqkVRbaFHeD-UMTSc/edit?usp=sharing).\n",
        "\n",
        "Download the spreadsheet from the link above, then read the data into a `pandas` `DataFrame` whose columns are the survey questions. Each row represents one student's response to the questions."
      ]
    },
    {
      "cell_type": "markdown",
      "metadata": {
        "id": "k54rkU7Ec8kO"
      },
      "source": [
        "## Question 1\n",
        "\n",
        "Make a graphic that visualizes the favorite colors of students in DATA 301. Explain what you see.\n",
        "\n",
        "(_Hint:_ You might have to clean the data a bit first.)"
      ]
    },
    {
      "cell_type": "code",
      "execution_count": null,
      "metadata": {
        "colab": {
          "base_uri": "https://localhost:8080/",
          "height": 389
        },
        "id": "Ym53WixOc8kL",
        "outputId": "30469640-191a-4b33-d46f-7e12e9248c39"
      },
      "outputs": [
        {
          "output_type": "execute_result",
          "data": {
            "text/html": [
              "\n",
              "  <div id=\"df-5867d515-68ae-4ca6-a864-e6b66df11bba\">\n",
              "    <div class=\"colab-df-container\">\n",
              "      <div>\n",
              "<style scoped>\n",
              "    .dataframe tbody tr th:only-of-type {\n",
              "        vertical-align: middle;\n",
              "    }\n",
              "\n",
              "    .dataframe tbody tr th {\n",
              "        vertical-align: top;\n",
              "    }\n",
              "\n",
              "    .dataframe thead th {\n",
              "        text-align: right;\n",
              "    }\n",
              "</style>\n",
              "<table border=\"1\" class=\"dataframe\">\n",
              "  <thead>\n",
              "    <tr style=\"text-align: right;\">\n",
              "      <th></th>\n",
              "      <th>What is your major?</th>\n",
              "      <th>Where are you living this quarter?</th>\n",
              "      <th>How many siblings do you have?</th>\n",
              "      <th>What is your favorite color?</th>\n",
              "      <th>What is a cool TV show, movie, or book that you liked in 2020?</th>\n",
              "      <th>Suppose you wanted to fill an average-sized school bus entirely with golf balls.  How many golf balls do you think you would need?</th>\n",
              "      <th>Do you consider yourself a sports fan?</th>\n",
              "      <th>Do you enjoy video games?</th>\n",
              "      <th>Do you consider yourself artistic?</th>\n",
              "    </tr>\n",
              "  </thead>\n",
              "  <tbody>\n",
              "    <tr>\n",
              "      <th>0</th>\n",
              "      <td>Other</td>\n",
              "      <td>Off Campus, but in SLO</td>\n",
              "      <td>2</td>\n",
              "      <td>Light Blue</td>\n",
              "      <td>Criminal Minds</td>\n",
              "      <td>500000.0</td>\n",
              "      <td>No</td>\n",
              "      <td>Yes</td>\n",
              "      <td>Yes</td>\n",
              "    </tr>\n",
              "    <tr>\n",
              "      <th>1</th>\n",
              "      <td>Statistics</td>\n",
              "      <td>Off Campus, outside of SLO</td>\n",
              "      <td>5</td>\n",
              "      <td>green</td>\n",
              "      <td>A Gentleman in Moscow</td>\n",
              "      <td>930000.0</td>\n",
              "      <td>No</td>\n",
              "      <td>No</td>\n",
              "      <td>No</td>\n",
              "    </tr>\n",
              "    <tr>\n",
              "      <th>2</th>\n",
              "      <td>Computer Science</td>\n",
              "      <td>Off Campus, but in SLO</td>\n",
              "      <td>2</td>\n",
              "      <td>blue</td>\n",
              "      <td>Crescent City by Sarah J Maas</td>\n",
              "      <td>10000000.0</td>\n",
              "      <td>Yes</td>\n",
              "      <td>No</td>\n",
              "      <td>Yes</td>\n",
              "    </tr>\n",
              "    <tr>\n",
              "      <th>3</th>\n",
              "      <td>Other</td>\n",
              "      <td>Off Campus, outside of SLO</td>\n",
              "      <td>2</td>\n",
              "      <td>Green</td>\n",
              "      <td>The Institute by Stephen King</td>\n",
              "      <td>400000.0</td>\n",
              "      <td>No</td>\n",
              "      <td>No</td>\n",
              "      <td>Yes</td>\n",
              "    </tr>\n",
              "    <tr>\n",
              "      <th>4</th>\n",
              "      <td>Computer Science</td>\n",
              "      <td>Off Campus, outside of SLO</td>\n",
              "      <td>1</td>\n",
              "      <td>Blue/Indigo</td>\n",
              "      <td>Peaky Blinders</td>\n",
              "      <td>100000.0</td>\n",
              "      <td>Yes</td>\n",
              "      <td>Yes</td>\n",
              "      <td>No</td>\n",
              "    </tr>\n",
              "  </tbody>\n",
              "</table>\n",
              "</div>\n",
              "      <button class=\"colab-df-convert\" onclick=\"convertToInteractive('df-5867d515-68ae-4ca6-a864-e6b66df11bba')\"\n",
              "              title=\"Convert this dataframe to an interactive table.\"\n",
              "              style=\"display:none;\">\n",
              "        \n",
              "  <svg xmlns=\"http://www.w3.org/2000/svg\" height=\"24px\"viewBox=\"0 0 24 24\"\n",
              "       width=\"24px\">\n",
              "    <path d=\"M0 0h24v24H0V0z\" fill=\"none\"/>\n",
              "    <path d=\"M18.56 5.44l.94 2.06.94-2.06 2.06-.94-2.06-.94-.94-2.06-.94 2.06-2.06.94zm-11 1L8.5 8.5l.94-2.06 2.06-.94-2.06-.94L8.5 2.5l-.94 2.06-2.06.94zm10 10l.94 2.06.94-2.06 2.06-.94-2.06-.94-.94-2.06-.94 2.06-2.06.94z\"/><path d=\"M17.41 7.96l-1.37-1.37c-.4-.4-.92-.59-1.43-.59-.52 0-1.04.2-1.43.59L10.3 9.45l-7.72 7.72c-.78.78-.78 2.05 0 2.83L4 21.41c.39.39.9.59 1.41.59.51 0 1.02-.2 1.41-.59l7.78-7.78 2.81-2.81c.8-.78.8-2.07 0-2.86zM5.41 20L4 18.59l7.72-7.72 1.47 1.35L5.41 20z\"/>\n",
              "  </svg>\n",
              "      </button>\n",
              "      \n",
              "  <style>\n",
              "    .colab-df-container {\n",
              "      display:flex;\n",
              "      flex-wrap:wrap;\n",
              "      gap: 12px;\n",
              "    }\n",
              "\n",
              "    .colab-df-convert {\n",
              "      background-color: #E8F0FE;\n",
              "      border: none;\n",
              "      border-radius: 50%;\n",
              "      cursor: pointer;\n",
              "      display: none;\n",
              "      fill: #1967D2;\n",
              "      height: 32px;\n",
              "      padding: 0 0 0 0;\n",
              "      width: 32px;\n",
              "    }\n",
              "\n",
              "    .colab-df-convert:hover {\n",
              "      background-color: #E2EBFA;\n",
              "      box-shadow: 0px 1px 2px rgba(60, 64, 67, 0.3), 0px 1px 3px 1px rgba(60, 64, 67, 0.15);\n",
              "      fill: #174EA6;\n",
              "    }\n",
              "\n",
              "    [theme=dark] .colab-df-convert {\n",
              "      background-color: #3B4455;\n",
              "      fill: #D2E3FC;\n",
              "    }\n",
              "\n",
              "    [theme=dark] .colab-df-convert:hover {\n",
              "      background-color: #434B5C;\n",
              "      box-shadow: 0px 1px 3px 1px rgba(0, 0, 0, 0.15);\n",
              "      filter: drop-shadow(0px 1px 2px rgba(0, 0, 0, 0.3));\n",
              "      fill: #FFFFFF;\n",
              "    }\n",
              "  </style>\n",
              "\n",
              "      <script>\n",
              "        const buttonEl =\n",
              "          document.querySelector('#df-5867d515-68ae-4ca6-a864-e6b66df11bba button.colab-df-convert');\n",
              "        buttonEl.style.display =\n",
              "          google.colab.kernel.accessAllowed ? 'block' : 'none';\n",
              "\n",
              "        async function convertToInteractive(key) {\n",
              "          const element = document.querySelector('#df-5867d515-68ae-4ca6-a864-e6b66df11bba');\n",
              "          const dataTable =\n",
              "            await google.colab.kernel.invokeFunction('convertToInteractive',\n",
              "                                                     [key], {});\n",
              "          if (!dataTable) return;\n",
              "\n",
              "          const docLinkHtml = 'Like what you see? Visit the ' +\n",
              "            '<a target=\"_blank\" href=https://colab.research.google.com/notebooks/data_table.ipynb>data table notebook</a>'\n",
              "            + ' to learn more about interactive tables.';\n",
              "          element.innerHTML = '';\n",
              "          dataTable['output_type'] = 'display_data';\n",
              "          await google.colab.output.renderOutput(dataTable, element);\n",
              "          const docLink = document.createElement('div');\n",
              "          docLink.innerHTML = docLinkHtml;\n",
              "          element.appendChild(docLink);\n",
              "        }\n",
              "      </script>\n",
              "    </div>\n",
              "  </div>\n",
              "  "
            ],
            "text/plain": [
              "  What is your major?  ... Do you consider yourself artistic?\n",
              "0               Other  ...                                Yes\n",
              "1          Statistics  ...                                 No\n",
              "2    Computer Science  ...                                Yes\n",
              "3               Other  ...                                Yes\n",
              "4    Computer Science  ...                                 No\n",
              "\n",
              "[5 rows x 9 columns]"
            ]
          },
          "metadata": {},
          "execution_count": 2
        }
      ],
      "source": [
        "# TYPE YOUR CODE HERE.\n",
        "import pandas as pd\n",
        "from pathlib import Path\n",
        "\n",
        "#df_survey = pd.read_csv(\"C:/Users/zoe_a/Downloads/Data_301_Class_Survey_Responses.csv\")\n",
        "sheet_url = \"https://docs.google.com/spreadsheets/d/1K9rfAscLESbwvovOc1aD3K6PFgdqkVRbaFHeD-UMTSc/edit#gid=970845822\"\n",
        "url_1 = sheet_url.replace('/edit#gid=', '/export?format=csv&gid=')\n",
        "df_survey = pd.read_csv(url_1)\n",
        "df_survey.head()"
      ]
    },
    {
      "cell_type": "code",
      "execution_count": null,
      "metadata": {
        "id": "9G6ppmg-KBPG"
      },
      "outputs": [],
      "source": [
        "options = df_survey[\"What is your favorite color?\"].tolist()\n",
        "#print(len(options))\n",
        "#print(options)\n",
        "listToRemove = []\n",
        "listToAppend = []\n",
        "for i in range(len(options)):\n",
        "    options[i] = options[i].lower()\n",
        "    if options[i].find(\"/\") != -1:\n",
        "      index = options[i].find(\"/\")\n",
        "      firstColor = options[i][0:index]\n",
        "      secondColor = options[i][index+1:]\n",
        "      listToRemove.append(options[i])\n",
        "      listToAppend.append(firstColor)\n",
        "      listToAppend.append(secondColor)\n",
        "    elif options[i].find(\"and\") != -1:\n",
        "      index1 = options[i].find(\"and\")\n",
        "      firstCol = options[i][0:index1-1]\n",
        "      secondCol = options[i][index1+4:]\n",
        "      listToRemove.append(options[i])\n",
        "      listToAppend.append(firstCol)\n",
        "      listToAppend.append(secondCol)\n",
        "    elif options[i] == \"grey\":\n",
        "      listToRemove.append(options[i])\n",
        "      listToAppend.append(\"gray\")\n",
        "\n",
        "for x in listToRemove:\n",
        "  options.remove(x)\n",
        "for x in listToAppend:\n",
        "  options.append(x)\n",
        "\n",
        "\n",
        "#print(len(options))\n",
        "#print(options)\n",
        "#print(listToRemove)\n",
        "#print(listToAppend)\n",
        "\n",
        "def remove_dupes(x):\n",
        "  return list(dict.fromkeys(x))\n"
      ]
    },
    {
      "cell_type": "code",
      "execution_count": null,
      "metadata": {
        "colab": {
          "base_uri": "https://localhost:8080/",
          "height": 281
        },
        "id": "YhtHKS47P4Vo",
        "outputId": "16d53887-d805-49ff-a044-23f7ef37911e"
      },
      "outputs": [
        {
          "output_type": "display_data",
          "data": {
            "image/png": "[encoded data removed]",
            "text/plain": [
              "<Figure size 432x288 with 1 Axes>"
            ]
          },
          "metadata": {
            "needs_background": "light"
          }
        }
      ],
      "source": [
        "uniqueOps = remove_dupes(options)\n",
        "\n",
        "counts=[]\n",
        "\n",
        "\n",
        "for word in uniqueOps:\n",
        "  i=0\n",
        "  for count in options:\n",
        "    if word == count:\n",
        "      i+=1\n",
        "  counts.append(i)\n",
        "\n",
        "index=['1','2','3','4','5','6','7','8','9']\n",
        "df = pd.DataFrame({'Count': counts}, index=uniqueOps)\n",
        "barPlot = df.plot.barh(title = \"Favorite Colors of Data 301 Students\",rot=0, xlabel = \"colors\")\n",
        "# barPlot.title(\"Favorite Colors of Data 301 Students\")"
      ]
    },
    {
      "cell_type": "markdown",
      "metadata": {
        "id": "fCYgs1_kc8kN"
      },
      "source": [
        "I can first see that the most popular color in the class is blue, followed by green, red, and purple. I also notice that variations of these colors are also popular such as: dark green, forest green, navy blue, light blue, royal blue, teal, etc."
      ]
    },
    {
      "cell_type": "markdown",
      "metadata": {
        "id": "EDUBQeggc8kK"
      },
      "source": [
        "## Question 2\n",
        "\n",
        "Is there a relationship between the number of siblings a student has, and whether or not they live in SLO?\n",
        "\n",
        "Make a visualization to address this question, and discuss the result."
      ]
    },
    {
      "cell_type": "code",
      "source": [
        "df_survey.head()"
      ],
      "metadata": {
        "colab": {
          "base_uri": "https://localhost:8080/",
          "height": 389
        },
        "id": "htAoTB4BX5Dz",
        "outputId": "e7167cf9-da0b-4849-ac51-b28567837ae2"
      },
      "execution_count": null,
      "outputs": [
        {
          "output_type": "execute_result",
          "data": {
            "text/html": [
              "\n",
              "  <div id=\"df-04815c32-54fe-4b7a-8ef4-adc0371294c3\">\n",
              "    <div class=\"colab-df-container\">\n",
              "      <div>\n",
              "<style scoped>\n",
              "    .dataframe tbody tr th:only-of-type {\n",
              "        vertical-align: middle;\n",
              "    }\n",
              "\n",
              "    .dataframe tbody tr th {\n",
              "        vertical-align: top;\n",
              "    }\n",
              "\n",
              "    .dataframe thead th {\n",
              "        text-align: right;\n",
              "    }\n",
              "</style>\n",
              "<table border=\"1\" class=\"dataframe\">\n",
              "  <thead>\n",
              "    <tr style=\"text-align: right;\">\n",
              "      <th></th>\n",
              "      <th>What is your major?</th>\n",
              "      <th>Where are you living this quarter?</th>\n",
              "      <th>How many siblings do you have?</th>\n",
              "      <th>What is your favorite color?</th>\n",
              "      <th>What is a cool TV show, movie, or book that you liked in 2020?</th>\n",
              "      <th>Suppose you wanted to fill an average-sized school bus entirely with golf balls.  How many golf balls do you think you would need?</th>\n",
              "      <th>Do you consider yourself a sports fan?</th>\n",
              "      <th>Do you enjoy video games?</th>\n",
              "      <th>Do you consider yourself artistic?</th>\n",
              "    </tr>\n",
              "  </thead>\n",
              "  <tbody>\n",
              "    <tr>\n",
              "      <th>0</th>\n",
              "      <td>Other</td>\n",
              "      <td>Off Campus, but in SLO</td>\n",
              "      <td>2</td>\n",
              "      <td>Light Blue</td>\n",
              "      <td>Criminal Minds</td>\n",
              "      <td>500000.0</td>\n",
              "      <td>No</td>\n",
              "      <td>Yes</td>\n",
              "      <td>Yes</td>\n",
              "    </tr>\n",
              "    <tr>\n",
              "      <th>1</th>\n",
              "      <td>Statistics</td>\n",
              "      <td>Off Campus, outside of SLO</td>\n",
              "      <td>5</td>\n",
              "      <td>green</td>\n",
              "      <td>A Gentleman in Moscow</td>\n",
              "      <td>930000.0</td>\n",
              "      <td>No</td>\n",
              "      <td>No</td>\n",
              "      <td>No</td>\n",
              "    </tr>\n",
              "    <tr>\n",
              "      <th>2</th>\n",
              "      <td>Computer Science</td>\n",
              "      <td>Off Campus, but in SLO</td>\n",
              "      <td>2</td>\n",
              "      <td>blue</td>\n",
              "      <td>Crescent City by Sarah J Maas</td>\n",
              "      <td>10000000.0</td>\n",
              "      <td>Yes</td>\n",
              "      <td>No</td>\n",
              "      <td>Yes</td>\n",
              "    </tr>\n",
              "    <tr>\n",
              "      <th>3</th>\n",
              "      <td>Other</td>\n",
              "      <td>Off Campus, outside of SLO</td>\n",
              "      <td>2</td>\n",
              "      <td>Green</td>\n",
              "      <td>The Institute by Stephen King</td>\n",
              "      <td>400000.0</td>\n",
              "      <td>No</td>\n",
              "      <td>No</td>\n",
              "      <td>Yes</td>\n",
              "    </tr>\n",
              "    <tr>\n",
              "      <th>4</th>\n",
              "      <td>Computer Science</td>\n",
              "      <td>Off Campus, outside of SLO</td>\n",
              "      <td>1</td>\n",
              "      <td>Blue/Indigo</td>\n",
              "      <td>Peaky Blinders</td>\n",
              "      <td>100000.0</td>\n",
              "      <td>Yes</td>\n",
              "      <td>Yes</td>\n",
              "      <td>No</td>\n",
              "    </tr>\n",
              "  </tbody>\n",
              "</table>\n",
              "</div>\n",
              "      <button class=\"colab-df-convert\" onclick=\"convertToInteractive('df-04815c32-54fe-4b7a-8ef4-adc0371294c3')\"\n",
              "              title=\"Convert this dataframe to an interactive table.\"\n",
              "              style=\"display:none;\">\n",
              "        \n",
              "  <svg xmlns=\"http://www.w3.org/2000/svg\" height=\"24px\"viewBox=\"0 0 24 24\"\n",
              "       width=\"24px\">\n",
              "    <path d=\"M0 0h24v24H0V0z\" fill=\"none\"/>\n",
              "    <path d=\"M18.56 5.44l.94 2.06.94-2.06 2.06-.94-2.06-.94-.94-2.06-.94 2.06-2.06.94zm-11 1L8.5 8.5l.94-2.06 2.06-.94-2.06-.94L8.5 2.5l-.94 2.06-2.06.94zm10 10l.94 2.06.94-2.06 2.06-.94-2.06-.94-.94-2.06-.94 2.06-2.06.94z\"/><path d=\"M17.41 7.96l-1.37-1.37c-.4-.4-.92-.59-1.43-.59-.52 0-1.04.2-1.43.59L10.3 9.45l-7.72 7.72c-.78.78-.78 2.05 0 2.83L4 21.41c.39.39.9.59 1.41.59.51 0 1.02-.2 1.41-.59l7.78-7.78 2.81-2.81c.8-.78.8-2.07 0-2.86zM5.41 20L4 18.59l7.72-7.72 1.47 1.35L5.41 20z\"/>\n",
              "  </svg>\n",
              "      </button>\n",
              "      \n",
              "  <style>\n",
              "    .colab-df-container {\n",
              "      display:flex;\n",
              "      flex-wrap:wrap;\n",
              "      gap: 12px;\n",
              "    }\n",
              "\n",
              "    .colab-df-convert {\n",
              "      background-color: #E8F0FE;\n",
              "      border: none;\n",
              "      border-radius: 50%;\n",
              "      cursor: pointer;\n",
              "      display: none;\n",
              "      fill: #1967D2;\n",
              "      height: 32px;\n",
              "      padding: 0 0 0 0;\n",
              "      width: 32px;\n",
              "    }\n",
              "\n",
              "    .colab-df-convert:hover {\n",
              "      background-color: #E2EBFA;\n",
              "      box-shadow: 0px 1px 2px rgba(60, 64, 67, 0.3), 0px 1px 3px 1px rgba(60, 64, 67, 0.15);\n",
              "      fill: #174EA6;\n",
              "    }\n",
              "\n",
              "    [theme=dark] .colab-df-convert {\n",
              "      background-color: #3B4455;\n",
              "      fill: #D2E3FC;\n",
              "    }\n",
              "\n",
              "    [theme=dark] .colab-df-convert:hover {\n",
              "      background-color: #434B5C;\n",
              "      box-shadow: 0px 1px 3px 1px rgba(0, 0, 0, 0.15);\n",
              "      filter: drop-shadow(0px 1px 2px rgba(0, 0, 0, 0.3));\n",
              "      fill: #FFFFFF;\n",
              "    }\n",
              "  </style>\n",
              "\n",
              "      <script>\n",
              "        const buttonEl =\n",
              "          document.querySelector('#df-04815c32-54fe-4b7a-8ef4-adc0371294c3 button.colab-df-convert');\n",
              "        buttonEl.style.display =\n",
              "          google.colab.kernel.accessAllowed ? 'block' : 'none';\n",
              "\n",
              "        async function convertToInteractive(key) {\n",
              "          const element = document.querySelector('#df-04815c32-54fe-4b7a-8ef4-adc0371294c3');\n",
              "          const dataTable =\n",
              "            await google.colab.kernel.invokeFunction('convertToInteractive',\n",
              "                                                     [key], {});\n",
              "          if (!dataTable) return;\n",
              "\n",
              "          const docLinkHtml = 'Like what you see? Visit the ' +\n",
              "            '<a target=\"_blank\" href=https://colab.research.google.com/notebooks/data_table.ipynb>data table notebook</a>'\n",
              "            + ' to learn more about interactive tables.';\n",
              "          element.innerHTML = '';\n",
              "          dataTable['output_type'] = 'display_data';\n",
              "          await google.colab.output.renderOutput(dataTable, element);\n",
              "          const docLink = document.createElement('div');\n",
              "          docLink.innerHTML = docLinkHtml;\n",
              "          element.appendChild(docLink);\n",
              "        }\n",
              "      </script>\n",
              "    </div>\n",
              "  </div>\n",
              "  "
            ],
            "text/plain": [
              "  What is your major?  ... Do you consider yourself artistic?\n",
              "0               Other  ...                                Yes\n",
              "1          Statistics  ...                                 No\n",
              "2    Computer Science  ...                                Yes\n",
              "3               Other  ...                                Yes\n",
              "4    Computer Science  ...                                 No\n",
              "\n",
              "[5 rows x 9 columns]"
            ]
          },
          "metadata": {},
          "execution_count": 11
        }
      ]
    },
    {
      "cell_type": "code",
      "execution_count": null,
      "metadata": {
        "id": "TpDoV7rvc8kO",
        "colab": {
          "base_uri": "https://localhost:8080/"
        },
        "outputId": "4ac9148d-a859-41ab-e37d-3f39e67b5734"
      },
      "outputs": [
        {
          "output_type": "stream",
          "name": "stdout",
          "text": [
            "[5, 2, 1, 1, 2, 1, 0, 1, 2, 2, 3, 0, 2, 0, 1, 1, 3, 5, 2, 2, 1, 0, 1, 3, 1]\n",
            "[2, 2, 1, 1, 2, 1, 3, 1, 2, 2, 1, 1, 1, 2, 1, 1, 2, 2, 1, 0, 3, 1, 1, 2, 2, 1, 2, 1, 1, 2, 1, 2]\n"
          ]
        }
      ],
      "source": [
        "df_survey\n",
        "outsideSLO=[]\n",
        "insideSLO=[]\n",
        "for row in df_survey.iterrows():\n",
        "  if type(row[1][1]) == str:\n",
        "    if row[1][1].find(\"outside of SLO\") != -1:\n",
        "      outsideSLO.append(row[1][2])\n",
        "    else:\n",
        "      insideSLO.append(row[1][2])\n",
        "\n",
        "print(outsideSLO)\n",
        "print(insideSLO)"
      ]
    },
    {
      "cell_type": "markdown",
      "metadata": {
        "id": "xS8tUCb8c8kQ"
      },
      "source": [
        "**TYPE YOUR WRITTEN EXPLANATION HERE.**"
      ]
    },
    {
      "cell_type": "markdown",
      "metadata": {
        "id": "OWml6cxtc8kR"
      },
      "source": [
        "## Question 3\n",
        "\n",
        "You were asked to guess how many golf balls fit into a standard-sized school bus.  This is actually a famous Google interview question!  The best answer I could find online is [here](https://www.quora.com/How-many-golf-balls-can-fit-into-a-school-bus).\n",
        "\n",
        "How did the different subgroups in the class do on this question?  That is, can you find an interesting relationship between the golf ball numbers guess and any of the other variables in this dataset?\n",
        "\n",
        "(_Hint:_ There are many reasonable approaches to this problem. You will get full credit for any reasonable approach, as long as you carefully justify it.)"
      ]
    },
    {
      "cell_type": "code",
      "execution_count": null,
      "metadata": {
        "id": "JTnwnsjZc8kS"
      },
      "outputs": [],
      "source": [
        "# TYPE YOUR CODE HERE."
      ]
    },
    {
      "cell_type": "markdown",
      "metadata": {
        "id": "FMb6JbDcc8kU"
      },
      "source": [
        "**TYPE YOUR WRITTEN EXPLANATION HERE.**"
      ]
    },
    {
      "cell_type": "markdown",
      "metadata": {
        "id": "rlclwdA0pGb0"
      },
      "source": [
        "## Question 4\n",
        "\n",
        "Write and answer your own question using this data set."
      ]
    },
    {
      "cell_type": "code",
      "execution_count": null,
      "metadata": {
        "id": "-DGR6Q-QpMls"
      },
      "outputs": [],
      "source": [
        "# TYPE YOUR CODE HERE."
      ]
    }
  ],
  "metadata": {
    "colab": {
      "collapsed_sections": [],
      "name": "Copy of DATA 301 Lab 1B - Zoe Atkins",
      "provenance": [],
      "include_colab_link": true
    },
    "kernelspec": {
      "display_name": "Python 3",
      "language": "python",
      "name": "python3"
    },
    "language_info": {
      "codemirror_mode": {
        "name": "ipython",
        "version": 3
      },
      "file_extension": ".py",
      "mimetype": "text/x-python",
      "name": "python",
      "nbconvert_exporter": "python",
      "pygments_lexer": "ipython3",
      "version": "3.6.4"
    }
  },
  "nbformat": 4,
  "nbformat_minor": 0
}